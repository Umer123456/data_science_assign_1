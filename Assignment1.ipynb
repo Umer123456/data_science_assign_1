{
 "cells": [
  {
   "cell_type": "code",
   "execution_count": 1,
   "id": "e8b01172",
   "metadata": {},
   "outputs": [
    {
     "name": "stdout",
     "output_type": "stream",
     "text": [
      "                             Answer No 1\n",
      "Twinkle, twinkle, little star,\n",
      "    How I wonder what you are!\n",
      "          Up above the world so high,\n",
      "          Like a diamond in the sky.\n",
      "Twinkle, twinkle, little star,\n",
      "    How I wonder what you are\n"
     ]
    }
   ],
   "source": [
    "print('                             Answer No 1')\n",
    "print(\"Twinkle, twinkle, little star,\");\n",
    "print(\"    How I wonder what you are!\");\n",
    "print(\"          Up above the world so high,\");\n",
    "print(\"          Like a diamond in the sky.\");\n",
    "print(\"Twinkle, twinkle, little star,\");\n",
    "print(\"    How I wonder what you are\");"
   ]
  },
  {
   "cell_type": "code",
   "execution_count": 2,
   "id": "f6cf262c",
   "metadata": {},
   "outputs": [
    {
     "name": "stdout",
     "output_type": "stream",
     "text": [
      "Python version\n",
      "3.8.8 (default, Apr 13 2021, 15:08:07) [MSC v.1916 32 bit (Intel)]\n"
     ]
    }
   ],
   "source": [
    "print('                             Answer No 2')\n",
    "import sys;\n",
    "print(\"Python version\");\n",
    "print (sys.version);"
   ]
  },
  {
   "cell_type": "code",
   "execution_count": 3,
   "id": "4410baf5",
   "metadata": {},
   "outputs": [
    {
     "name": "stdout",
     "output_type": "stream",
     "text": [
      "Current date and time\n",
      "Date 2021-12-29 \tTime 17:11:52\n"
     ]
    }
   ],
   "source": [
    "print('                             Answer No 3')\n",
    "import datetime\n",
    "now = datetime.datetime.now()\n",
    "print (\"Current date and time\")\n",
    "print (now.strftime(\"Date %Y-%m-%d \\tTime %H:%M:%S\"))"
   ]
  },
  {
   "cell_type": "code",
   "execution_count": 14,
   "id": "38a81674",
   "metadata": {},
   "outputs": [
    {
     "name": "stdout",
     "output_type": "stream",
     "text": [
      "                             Answer No 4\n",
      "Input the radius of the circle : 6\n",
      "The area of the circle radius is :  149.4\n"
     ]
    }
   ],
   "source": [
    "print('                             Answer No 4')\n",
    "radius = float(input (\"Input the radius of the circle : \"));\n",
    "area   = 4.15 * radius * radius;\n",
    "print(\"The area of the circle radius is : \",area)"
   ]
  },
  {
   "cell_type": "code",
   "execution_count": 15,
   "id": "87f6dc78",
   "metadata": {},
   "outputs": [
    {
     "name": "stdout",
     "output_type": "stream",
     "text": [
      "                             Answer No 5\n",
      "Enter your First Name : Muhammmad Umer\n",
      "Enter your Last Name : Baloch\n",
      "Baloch Muhammmad Umer\n"
     ]
    }
   ],
   "source": [
    "print('                             Answer No 5')\n",
    "First_Name = input(\"Enter your First Name : \");\n",
    "Last_Name = input(\"Enter your Last Name : \");\n",
    "print ( Last_Name  + \" \" + First_Name);"
   ]
  },
  {
   "cell_type": "code",
   "execution_count": null,
   "id": "c5fd6cb9",
   "metadata": {},
   "outputs": [
    {
     "name": "stdout",
     "output_type": "stream",
     "text": [
      "                             Answer No 6\n"
     ]
    }
   ],
   "source": [
    "print('                             Answer No 6')\n",
    "Num_1 = int(input(\"Enter Fisrt Number  : \"));\n",
    "Num_2 = int(input(\"Enter Second Number : \"));\n",
    "sum;\n",
    "sum = Num_1 + Num_2;\n",
    "print (\"The number is : \",sum);"
   ]
  },
  {
   "cell_type": "code",
   "execution_count": null,
   "id": "db7bb71c",
   "metadata": {},
   "outputs": [],
   "source": []
  }
 ],
 "metadata": {
  "kernelspec": {
   "display_name": "Python 3",
   "language": "python",
   "name": "python3"
  },
  "language_info": {
   "codemirror_mode": {
    "name": "ipython",
    "version": 3
   },
   "file_extension": ".py",
   "mimetype": "text/x-python",
   "name": "python",
   "nbconvert_exporter": "python",
   "pygments_lexer": "ipython3",
   "version": "3.8.8"
  }
 },
 "nbformat": 4,
 "nbformat_minor": 5
}
